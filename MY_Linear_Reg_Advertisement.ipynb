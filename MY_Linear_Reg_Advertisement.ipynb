{
 "cells": [
  {
   "cell_type": "markdown",
   "id": "ec172c08",
   "metadata": {},
   "source": [
    "**Import Libraries**"
   ]
  },
  {
   "cell_type": "code",
   "execution_count": 14,
   "id": "9174b230",
   "metadata": {},
   "outputs": [],
   "source": [
    "import pandas as pd \n",
    "import numpy as np\n",
    "from sklearn.linear_model import LinearRegression\n",
    "import matplotlib.pyplot as plt\n",
    "import seaborn as sns"
   ]
  },
  {
   "cell_type": "markdown",
   "id": "59aca47b",
   "metadata": {},
   "source": [
    "**Load the Advertising Dataset**"
   ]
  },
  {
   "cell_type": "code",
   "execution_count": 15,
   "id": "42ba7fa0",
   "metadata": {},
   "outputs": [],
   "source": [
    "df=pd.read_csv('Advertising.csv')"
   ]
  },
  {
   "cell_type": "code",
   "execution_count": 16,
   "id": "617e9634",
   "metadata": {},
   "outputs": [
    {
     "data": {
      "text/html": [
       "<div>\n",
       "<style scoped>\n",
       "    .dataframe tbody tr th:only-of-type {\n",
       "        vertical-align: middle;\n",
       "    }\n",
       "\n",
       "    .dataframe tbody tr th {\n",
       "        vertical-align: top;\n",
       "    }\n",
       "\n",
       "    .dataframe thead th {\n",
       "        text-align: right;\n",
       "    }\n",
       "</style>\n",
       "<table border=\"1\" class=\"dataframe\">\n",
       "  <thead>\n",
       "    <tr style=\"text-align: right;\">\n",
       "      <th></th>\n",
       "      <th>Unnamed: 0</th>\n",
       "      <th>TV</th>\n",
       "      <th>radio</th>\n",
       "      <th>newspaper</th>\n",
       "      <th>sales</th>\n",
       "    </tr>\n",
       "  </thead>\n",
       "  <tbody>\n",
       "    <tr>\n",
       "      <th>0</th>\n",
       "      <td>1</td>\n",
       "      <td>230.1</td>\n",
       "      <td>37.8</td>\n",
       "      <td>69.2</td>\n",
       "      <td>22.1</td>\n",
       "    </tr>\n",
       "    <tr>\n",
       "      <th>1</th>\n",
       "      <td>2</td>\n",
       "      <td>44.5</td>\n",
       "      <td>39.3</td>\n",
       "      <td>45.1</td>\n",
       "      <td>10.4</td>\n",
       "    </tr>\n",
       "    <tr>\n",
       "      <th>2</th>\n",
       "      <td>3</td>\n",
       "      <td>17.2</td>\n",
       "      <td>45.9</td>\n",
       "      <td>69.3</td>\n",
       "      <td>9.3</td>\n",
       "    </tr>\n",
       "    <tr>\n",
       "      <th>3</th>\n",
       "      <td>4</td>\n",
       "      <td>151.5</td>\n",
       "      <td>41.3</td>\n",
       "      <td>58.5</td>\n",
       "      <td>18.5</td>\n",
       "    </tr>\n",
       "    <tr>\n",
       "      <th>4</th>\n",
       "      <td>5</td>\n",
       "      <td>180.8</td>\n",
       "      <td>10.8</td>\n",
       "      <td>58.4</td>\n",
       "      <td>12.9</td>\n",
       "    </tr>\n",
       "  </tbody>\n",
       "</table>\n",
       "</div>"
      ],
      "text/plain": [
       "   Unnamed: 0     TV  radio  newspaper  sales\n",
       "0           1  230.1   37.8       69.2   22.1\n",
       "1           2   44.5   39.3       45.1   10.4\n",
       "2           3   17.2   45.9       69.3    9.3\n",
       "3           4  151.5   41.3       58.5   18.5\n",
       "4           5  180.8   10.8       58.4   12.9"
      ]
     },
     "execution_count": 16,
     "metadata": {},
     "output_type": "execute_result"
    }
   ],
   "source": [
    "df.head()"
   ]
  },
  {
   "cell_type": "code",
   "execution_count": 17,
   "id": "76b7e34a",
   "metadata": {},
   "outputs": [],
   "source": [
    "#drop unwanted coloumn\n",
    "df.drop(\"Unnamed: 0\", axis=1, inplace=True)"
   ]
  },
  {
   "cell_type": "markdown",
   "id": "c0d27731",
   "metadata": {},
   "source": [
    "* **inplace=True**   insure that the change will be reflect in original file"
   ]
  },
  {
   "cell_type": "code",
   "execution_count": 18,
   "id": "f59b7b7a",
   "metadata": {},
   "outputs": [
    {
     "data": {
      "text/html": [
       "<div>\n",
       "<style scoped>\n",
       "    .dataframe tbody tr th:only-of-type {\n",
       "        vertical-align: middle;\n",
       "    }\n",
       "\n",
       "    .dataframe tbody tr th {\n",
       "        vertical-align: top;\n",
       "    }\n",
       "\n",
       "    .dataframe thead th {\n",
       "        text-align: right;\n",
       "    }\n",
       "</style>\n",
       "<table border=\"1\" class=\"dataframe\">\n",
       "  <thead>\n",
       "    <tr style=\"text-align: right;\">\n",
       "      <th></th>\n",
       "      <th>TV</th>\n",
       "      <th>radio</th>\n",
       "      <th>newspaper</th>\n",
       "      <th>sales</th>\n",
       "    </tr>\n",
       "  </thead>\n",
       "  <tbody>\n",
       "    <tr>\n",
       "      <th>0</th>\n",
       "      <td>230.1</td>\n",
       "      <td>37.8</td>\n",
       "      <td>69.2</td>\n",
       "      <td>22.1</td>\n",
       "    </tr>\n",
       "    <tr>\n",
       "      <th>1</th>\n",
       "      <td>44.5</td>\n",
       "      <td>39.3</td>\n",
       "      <td>45.1</td>\n",
       "      <td>10.4</td>\n",
       "    </tr>\n",
       "    <tr>\n",
       "      <th>2</th>\n",
       "      <td>17.2</td>\n",
       "      <td>45.9</td>\n",
       "      <td>69.3</td>\n",
       "      <td>9.3</td>\n",
       "    </tr>\n",
       "    <tr>\n",
       "      <th>3</th>\n",
       "      <td>151.5</td>\n",
       "      <td>41.3</td>\n",
       "      <td>58.5</td>\n",
       "      <td>18.5</td>\n",
       "    </tr>\n",
       "    <tr>\n",
       "      <th>4</th>\n",
       "      <td>180.8</td>\n",
       "      <td>10.8</td>\n",
       "      <td>58.4</td>\n",
       "      <td>12.9</td>\n",
       "    </tr>\n",
       "  </tbody>\n",
       "</table>\n",
       "</div>"
      ],
      "text/plain": [
       "      TV  radio  newspaper  sales\n",
       "0  230.1   37.8       69.2   22.1\n",
       "1   44.5   39.3       45.1   10.4\n",
       "2   17.2   45.9       69.3    9.3\n",
       "3  151.5   41.3       58.5   18.5\n",
       "4  180.8   10.8       58.4   12.9"
      ]
     },
     "execution_count": 18,
     "metadata": {},
     "output_type": "execute_result"
    }
   ],
   "source": [
    "df.head()"
   ]
  },
  {
   "cell_type": "markdown",
   "id": "8faedfb3",
   "metadata": {},
   "source": [
    "**Describe the data**"
   ]
  },
  {
   "cell_type": "code",
   "execution_count": 19,
   "id": "32b6cbd4",
   "metadata": {},
   "outputs": [
    {
     "data": {
      "text/html": [
       "<div>\n",
       "<style scoped>\n",
       "    .dataframe tbody tr th:only-of-type {\n",
       "        vertical-align: middle;\n",
       "    }\n",
       "\n",
       "    .dataframe tbody tr th {\n",
       "        vertical-align: top;\n",
       "    }\n",
       "\n",
       "    .dataframe thead th {\n",
       "        text-align: right;\n",
       "    }\n",
       "</style>\n",
       "<table border=\"1\" class=\"dataframe\">\n",
       "  <thead>\n",
       "    <tr style=\"text-align: right;\">\n",
       "      <th></th>\n",
       "      <th>TV</th>\n",
       "      <th>radio</th>\n",
       "      <th>newspaper</th>\n",
       "      <th>sales</th>\n",
       "    </tr>\n",
       "  </thead>\n",
       "  <tbody>\n",
       "    <tr>\n",
       "      <th>count</th>\n",
       "      <td>200.00</td>\n",
       "      <td>200.00</td>\n",
       "      <td>200.00</td>\n",
       "      <td>200.00</td>\n",
       "    </tr>\n",
       "    <tr>\n",
       "      <th>mean</th>\n",
       "      <td>147.04</td>\n",
       "      <td>23.26</td>\n",
       "      <td>30.55</td>\n",
       "      <td>14.02</td>\n",
       "    </tr>\n",
       "    <tr>\n",
       "      <th>std</th>\n",
       "      <td>85.85</td>\n",
       "      <td>14.85</td>\n",
       "      <td>21.78</td>\n",
       "      <td>5.22</td>\n",
       "    </tr>\n",
       "    <tr>\n",
       "      <th>min</th>\n",
       "      <td>0.70</td>\n",
       "      <td>0.00</td>\n",
       "      <td>0.30</td>\n",
       "      <td>1.60</td>\n",
       "    </tr>\n",
       "    <tr>\n",
       "      <th>25%</th>\n",
       "      <td>74.38</td>\n",
       "      <td>9.98</td>\n",
       "      <td>12.75</td>\n",
       "      <td>10.38</td>\n",
       "    </tr>\n",
       "    <tr>\n",
       "      <th>50%</th>\n",
       "      <td>149.75</td>\n",
       "      <td>22.90</td>\n",
       "      <td>25.75</td>\n",
       "      <td>12.90</td>\n",
       "    </tr>\n",
       "    <tr>\n",
       "      <th>75%</th>\n",
       "      <td>218.82</td>\n",
       "      <td>36.52</td>\n",
       "      <td>45.10</td>\n",
       "      <td>17.40</td>\n",
       "    </tr>\n",
       "    <tr>\n",
       "      <th>max</th>\n",
       "      <td>296.40</td>\n",
       "      <td>49.60</td>\n",
       "      <td>114.00</td>\n",
       "      <td>27.00</td>\n",
       "    </tr>\n",
       "  </tbody>\n",
       "</table>\n",
       "</div>"
      ],
      "text/plain": [
       "           TV   radio  newspaper   sales\n",
       "count  200.00  200.00     200.00  200.00\n",
       "mean   147.04   23.26      30.55   14.02\n",
       "std     85.85   14.85      21.78    5.22\n",
       "min      0.70    0.00       0.30    1.60\n",
       "25%     74.38    9.98      12.75   10.38\n",
       "50%    149.75   22.90      25.75   12.90\n",
       "75%    218.82   36.52      45.10   17.40\n",
       "max    296.40   49.60     114.00   27.00"
      ]
     },
     "execution_count": 19,
     "metadata": {},
     "output_type": "execute_result"
    }
   ],
   "source": [
    "df.describe().round(2)"
   ]
  },
  {
   "cell_type": "markdown",
   "id": "cf72f274",
   "metadata": {},
   "source": [
    "* from the describe we can do sanity check of the data and if there is somthing nasty in data we can correct it before going for futher analysis"
   ]
  },
  {
   "cell_type": "markdown",
   "id": "0081f64e",
   "metadata": {},
   "source": [
    "**check out for Outliers**"
   ]
  },
  {
   "cell_type": "code",
   "execution_count": 25,
   "id": "6660784c",
   "metadata": {},
   "outputs": [
    {
     "data": {
      "image/png": "[encoded data removed]",
      "text/plain": [
       "<Figure size 432x288 with 4 Axes>"
      ]
     },
     "metadata": {},
     "output_type": "display_data"
    }
   ],
   "source": [
    "#boxplots\n",
    "df.plot(kind='box', subplots=True);\n",
    "#subplots=True => gives the each variable with diffrent plot otherwise it will give all variable in single plot"
   ]
  },
  {
   "cell_type": "markdown",
   "id": "c4820bae",
   "metadata": {},
   "source": [
    "* it is clear that TV, Radio and target variable sales does not have outlier \n",
    "* newspaper has the 2 outliers\n",
    "* so we will treat the outliers of newspapers"
   ]
  },
  {
   "cell_type": "code",
   "execution_count": 28,
   "id": "6af98e3f",
   "metadata": {},
   "outputs": [],
   "source": [
    "# treat outlier\n",
    "q1,q3=df['newspaper'].quantile([0.25, 0.75])\n",
    "IQR=q3-q1\n",
    "UL=q3+1.5*IQR\n",
    "LL=q1-1.5*IQR\n",
    "\n",
    "df['newspaper']=np.where(df['newspaper']>UL, UL, df['newspaper'])"
   ]
  },
  {
   "cell_type": "markdown",
   "id": "1862c313",
   "metadata": {},
   "source": [
    "* if there is data point which is greater than UL (Outlier)\n",
    "* then we are pulling dowm it to UL (pulldown)\n",
    "* else we are keep as it is\n",
    "\n",
    "**Note:**\n",
    "* it is upto us how we treat the outlier we may delet it, we may ignore it, or it we may pull it down\n",
    "* but while using linear regression it is nesessary to pull it down or delet it \n",
    "* becouse one oulier also badly affect on our linear regression model"
   ]
  },
  {
   "cell_type": "code",
   "execution_count": 29,
   "id": "bfc4b536",
   "metadata": {},
   "outputs": [
    {
     "data": {
      "image/png": "[encoded data removed]",
      "text/plain": [
       "<Figure size 432x288 with 4 Axes>"
      ]
     },
     "metadata": {},
     "output_type": "display_data"
    }
   ],
   "source": [
    "df.plot(kind='box', subplots=True);"
   ]
  },
  {
   "cell_type": "markdown",
   "id": "d2f4fd41",
   "metadata": {},
   "source": [
    "**Split the data**"
   ]
  },
  {
   "cell_type": "code",
   "execution_count": 32,
   "id": "9797f1a7",
   "metadata": {},
   "outputs": [],
   "source": [
    "#split the Variable \n",
    "X=df.drop('sales', axis=1)\n",
    "y=df['sales']"
   ]
  },
  {
   "cell_type": "code",
   "execution_count": 30,
   "id": "8cfdb234",
   "metadata": {},
   "outputs": [
    {
     "data": {
      "text/plain": [
       "Index(['TV', 'radio', 'newspaper', 'sales'], dtype='object')"
      ]
     },
     "execution_count": 30,
     "metadata": {},
     "output_type": "execute_result"
    }
   ],
   "source": [
    "df.columns"
   ]
  },
  {
   "cell_type": "code",
   "execution_count": 34,
   "id": "38e958ab",
   "metadata": {},
   "outputs": [],
   "source": [
    "#split the dataset into 80-20\n",
    "from sklearn.model_selection import train_test_split\n",
    "X_train, X_test, y_train, y_test=train_test_split(X,y, test_size=0.20, random_state=7)"
   ]
  },
  {
   "cell_type": "markdown",
   "id": "8ed13048",
   "metadata": {},
   "source": [
    "**random_state=7**\n",
    "* is not mandatory in the code \n",
    "* it used to get the same training and testing data every time when i run the code\n",
    "* if we not used random_state then every time i will get slightly diffrent result\n",
    "* we can use any interger number after random_state "
   ]
  },
  {
   "cell_type": "code",
   "execution_count": 35,
   "id": "1d9a709e",
   "metadata": {},
   "outputs": [
    {
     "data": {
      "text/plain": [
       "(200, 4)"
      ]
     },
     "execution_count": 35,
     "metadata": {},
     "output_type": "execute_result"
    }
   ],
   "source": [
    "df.shape"
   ]
  },
  {
   "cell_type": "code",
   "execution_count": 36,
   "id": "96af03ec",
   "metadata": {},
   "outputs": [
    {
     "data": {
      "text/plain": [
       "((160, 3), (40, 3))"
      ]
     },
     "execution_count": 36,
     "metadata": {},
     "output_type": "execute_result"
    }
   ],
   "source": [
    "X_train.shape, X_test.shape"
   ]
  },
  {
   "cell_type": "markdown",
   "id": "22a75a93",
   "metadata": {},
   "source": [
    "**Train the linear Regression model**"
   ]
  },
  {
   "cell_type": "code",
   "execution_count": 37,
   "id": "2efb3cca",
   "metadata": {},
   "outputs": [
    {
     "data": {
      "text/plain": [
       "LinearRegression()"
      ]
     },
     "execution_count": 37,
     "metadata": {},
     "output_type": "execute_result"
    }
   ],
   "source": [
    "lr=LinearRegression()\n",
    "lr.fit(X_train, y_train)"
   ]
  },
  {
   "cell_type": "markdown",
   "id": "c1f4cc62",
   "metadata": {},
   "source": [
    "**Coefficients of the model**"
   ]
  },
  {
   "cell_type": "code",
   "execution_count": 40,
   "id": "b5128de9",
   "metadata": {},
   "outputs": [
    {
     "data": {
      "text/plain": [
       "array([ 0.04629801,  0.18880122, -0.00100282])"
      ]
     },
     "execution_count": 40,
     "metadata": {},
     "output_type": "execute_result"
    }
   ],
   "source": [
    "#get the coefficient\n",
    "lr.coef_"
   ]
  },
  {
   "cell_type": "code",
   "execution_count": 41,
   "id": "9dfe2d3f",
   "metadata": {},
   "outputs": [
    {
     "data": {
      "text/plain": [
       "Index(['TV', 'radio', 'newspaper', 'sales'], dtype='object')"
      ]
     },
     "execution_count": 41,
     "metadata": {},
     "output_type": "execute_result"
    }
   ],
   "source": [
    "df.columns"
   ]
  },
  {
   "cell_type": "markdown",
   "id": "5656f246",
   "metadata": {},
   "source": [
    "* first coef for first column (TV)\n",
    "* second coef for second column (radio)\n",
    "* third coef for third column (nextewspaper)"
   ]
  },
  {
   "cell_type": "code",
   "execution_count": 42,
   "id": "e1a7aa0c",
   "metadata": {},
   "outputs": [
    {
     "data": {
      "text/plain": [
       "2.848412548439974"
      ]
     },
     "execution_count": 42,
     "metadata": {},
     "output_type": "execute_result"
    }
   ],
   "source": [
    "lr.intercept_"
   ]
  },
  {
   "cell_type": "markdown",
   "id": "329d9344",
   "metadata": {},
   "source": [
    "* this is the y intercept in the linear Reggression \n",
    "\n",
    "Therefor the equation become\n",
    "* **sales= 2.84 + 0.04\\*TV + 0.19\\*radio + 0.001\\*newspaper**\n",
    "\n",
    "**note:**\n",
    "* even if spend 0 on advertisement on TV, Radio, newspaper \n",
    "* then also we get the sales of 2.84 which is y intercept"
   ]
  },
  {
   "cell_type": "markdown",
   "id": "f933cba2",
   "metadata": {},
   "source": [
    "**Evaluate the Performance**"
   ]
  },
  {
   "cell_type": "code",
   "execution_count": 45,
   "id": "a4ee6080",
   "metadata": {},
   "outputs": [],
   "source": [
    "#prediction on train and test dataset\n",
    "train_pred=lr.predict(X_train)\n",
    "test_pred=lr.predict(X_test)"
   ]
  },
  {
   "cell_type": "code",
   "execution_count": 47,
   "id": "4a8fdde1",
   "metadata": {},
   "outputs": [],
   "source": [
    "from sklearn.metrics import mean_squared_error, r2_score"
   ]
  },
  {
   "cell_type": "code",
   "execution_count": 48,
   "id": "6ea23c39",
   "metadata": {},
   "outputs": [
    {
     "data": {
      "text/plain": [
       "(1.6957711089912768, 1.558510777921377)"
      ]
     },
     "execution_count": 48,
     "metadata": {},
     "output_type": "execute_result"
    }
   ],
   "source": [
    "rmse_train = mean_squared_error(y_train, train_pred, squared=False)\n",
    "rmse_test = mean_squared_error(y_test, test_pred, squared=False)\n",
    "rmse_train, rmse_test"
   ]
  },
  {
   "cell_type": "markdown",
   "id": "e18de3b2",
   "metadata": {},
   "source": [
    "* train dataset rmse=1.6957711089912768, \n",
    "* test dataset rmse=1.558510777921377\n",
    "* lower rmse score is better\n",
    "\n",
    "**is this rmse good or bad ?**\n",
    "* just by looking into rmse we cannot say that\n",
    "* the beter way is by getting the margin of error \n",
    "* which is given below code"
   ]
  },
  {
   "cell_type": "code",
   "execution_count": 51,
   "id": "f291d3d5",
   "metadata": {},
   "outputs": [
    {
     "data": {
      "text/plain": [
       "0.11889197556575273"
      ]
     },
     "execution_count": 51,
     "metadata": {},
     "output_type": "execute_result"
    }
   ],
   "source": [
    "rmse_train/y_train.mean() # margin of error on training dataset"
   ]
  },
  {
   "cell_type": "markdown",
   "id": "3f94587c",
   "metadata": {},
   "source": [
    "* which means that on training dataset the margin of error around 12%"
   ]
  },
  {
   "cell_type": "code",
   "execution_count": 53,
   "id": "142f90b6",
   "metadata": {},
   "outputs": [
    {
     "data": {
      "text/plain": [
       "0.1193346690598298"
      ]
     },
     "execution_count": 53,
     "metadata": {},
     "output_type": "execute_result"
    }
   ],
   "source": [
    "rmse_test/y_test.mean()# margin of error on testing dataset"
   ]
  },
  {
   "cell_type": "markdown",
   "id": "a870983c",
   "metadata": {},
   "source": [
    "* which means that on testing dataset the margin of error around 12%"
   ]
  },
  {
   "cell_type": "code",
   "execution_count": 50,
   "id": "179099ad",
   "metadata": {},
   "outputs": [
    {
     "data": {
      "text/plain": [
       "(0.8929135972742749, 0.9095593368967716)"
      ]
     },
     "execution_count": 50,
     "metadata": {},
     "output_type": "execute_result"
    }
   ],
   "source": [
    "# r2 scoer\n",
    "train_r2 = r2_score(y_train, train_pred)\n",
    "test_r2 = r2_score(y_test, test_pred)\n",
    "train_r2, test_r2"
   ]
  },
  {
   "cell_type": "markdown",
   "id": "8f6e0421",
   "metadata": {},
   "source": [
    "* we are getting 90% r2_score in both train and test data \n",
    "* which means that model is able to explain the 90% of variation in target variable of train and test data"
   ]
  },
  {
   "cell_type": "markdown",
   "id": "d2873c5c",
   "metadata": {},
   "source": [
    "**Residual of the model**"
   ]
  },
  {
   "cell_type": "code",
   "execution_count": 56,
   "id": "9ee5f251",
   "metadata": {},
   "outputs": [
    {
     "data": {
      "text/plain": [
       "86     0.443061\n",
       "120    1.096137\n",
       "22    -0.811746\n",
       "11     0.084187\n",
       "195    2.298278\n",
       "2     -2.941219\n",
       "121   -0.765259\n",
       "94     1.046895\n",
       "66     0.550896\n",
       "63     0.816690\n",
       "108    1.795235\n",
       "96    -0.951786\n",
       "138   -0.108621\n",
       "65     1.502076\n",
       "188   -2.810269\n",
       "155   -2.022612\n",
       "24     1.606678\n",
       "99     0.265116\n",
       "153    0.763137\n",
       "46     1.765325\n",
       "178   -4.269547\n",
       "139    1.004417\n",
       "143    1.667146\n",
       "74    -0.359780\n",
       "186    0.623208\n",
       "169   -3.005811\n",
       "101    0.469263\n",
       "197    0.007407\n",
       "109    0.053839\n",
       "177   -0.465683\n",
       "57     0.437462\n",
       "106    1.147108\n",
       "160    0.178666\n",
       "84     0.882406\n",
       "124    0.202325\n",
       "85    -0.001245\n",
       "126   -3.903162\n",
       "183    1.989831\n",
       "80     0.395790\n",
       "116    0.232720\n",
       "Name: sales, dtype: float64"
      ]
     },
     "execution_count": 56,
     "metadata": {},
     "output_type": "execute_result"
    }
   ],
   "source": [
    "# calculate the residuals for the predictions = error in prediction\n",
    "residuals = y_test - test_pred\n",
    "residuals"
   ]
  },
  {
   "cell_type": "markdown",
   "id": "6632b8cf",
   "metadata": {},
   "source": [
    "## Linear Regression Using Statsmodels Library"
   ]
  },
  {
   "cell_type": "markdown",
   "id": "d8752657",
   "metadata": {},
   "source": [
    "* stats model gives some detailed analaysis so we are doing Linear Regression Using Statsmodels Library"
   ]
  },
  {
   "cell_type": "code",
   "execution_count": 65,
   "id": "2954263c",
   "metadata": {},
   "outputs": [],
   "source": [
    "# import library\n",
    "from statsmodels.formula.api import ols \n",
    "\n",
    "#ols=ordinary least square"
   ]
  },
  {
   "cell_type": "code",
   "execution_count": 62,
   "id": "db986417",
   "metadata": {},
   "outputs": [],
   "source": [
    "# formula string\n",
    "formula = 'sales ~ TV + radio + newspaper'"
   ]
  },
  {
   "cell_type": "markdown",
   "id": "e40cbfb4",
   "metadata": {},
   "source": [
    "* before symbol \\~ is target variable\n",
    "* after symbol \\~ are independent variable"
   ]
  },
  {
   "cell_type": "code",
   "execution_count": 64,
   "id": "4a94e134",
   "metadata": {},
   "outputs": [],
   "source": [
    "# statsmodels requires that all indep variables and target variable be in a single dataframe\n",
    "# so joining back together the indep & tgt vars of train & test datasets\n",
    "train_df = pd.concat([X_train, y_train], axis=1)\n",
    "test_df = pd.concat([X_test,y_test], axis=1)"
   ]
  },
  {
   "cell_type": "code",
   "execution_count": 66,
   "id": "9817bcba",
   "metadata": {},
   "outputs": [],
   "source": [
    "# train the model\n",
    "model = ols(formula=formula, data=train_df).fit()"
   ]
  },
  {
   "cell_type": "code",
   "execution_count": 67,
   "id": "99413ad8",
   "metadata": {},
   "outputs": [
    {
     "data": {
      "text/html": [
       "<table class=\"simpletable\">\n",
       "<caption>OLS Regression Results</caption>\n",
       "<tr>\n",
       "  <th>Dep. Variable:</th>          <td>sales</td>      <th>  R-squared:         </th> <td>   0.893</td>\n",
       "</tr>\n",
       "<tr>\n",
       "  <th>Model:</th>                   <td>OLS</td>       <th>  Adj. R-squared:    </th> <td>   0.891</td>\n",
       "</tr>\n",
       "<tr>\n",
       "  <th>Method:</th>             <td>Least Squares</td>  <th>  F-statistic:       </th> <td>   433.6</td>\n",
       "</tr>\n",
       "<tr>\n",
       "  <th>Date:</th>             <td>Fri, 05 Aug 2022</td> <th>  Prob (F-statistic):</th> <td>1.98e-75</td>\n",
       "</tr>\n",
       "<tr>\n",
       "  <th>Time:</th>                 <td>17:37:55</td>     <th>  Log-Likelihood:    </th> <td> -311.53</td>\n",
       "</tr>\n",
       "<tr>\n",
       "  <th>No. Observations:</th>      <td>   160</td>      <th>  AIC:               </th> <td>   631.1</td>\n",
       "</tr>\n",
       "<tr>\n",
       "  <th>Df Residuals:</th>          <td>   156</td>      <th>  BIC:               </th> <td>   643.4</td>\n",
       "</tr>\n",
       "<tr>\n",
       "  <th>Df Model:</th>              <td>     3</td>      <th>                     </th>     <td> </td>   \n",
       "</tr>\n",
       "<tr>\n",
       "  <th>Covariance Type:</th>      <td>nonrobust</td>    <th>                     </th>     <td> </td>   \n",
       "</tr>\n",
       "</table>\n",
       "<table class=\"simpletable\">\n",
       "<tr>\n",
       "      <td></td>         <th>coef</th>     <th>std err</th>      <th>t</th>      <th>P>|t|</th>  <th>[0.025</th>    <th>0.975]</th>  \n",
       "</tr>\n",
       "<tr>\n",
       "  <th>Intercept</th> <td>    2.8484</td> <td>    0.369</td> <td>    7.720</td> <td> 0.000</td> <td>    2.120</td> <td>    3.577</td>\n",
       "</tr>\n",
       "<tr>\n",
       "  <th>TV</th>        <td>    0.0463</td> <td>    0.002</td> <td>   28.692</td> <td> 0.000</td> <td>    0.043</td> <td>    0.049</td>\n",
       "</tr>\n",
       "<tr>\n",
       "  <th>radio</th>     <td>    0.1888</td> <td>    0.010</td> <td>   19.798</td> <td> 0.000</td> <td>    0.170</td> <td>    0.208</td>\n",
       "</tr>\n",
       "<tr>\n",
       "  <th>newspaper</th> <td>   -0.0010</td> <td>    0.007</td> <td>   -0.144</td> <td> 0.885</td> <td>   -0.015</td> <td>    0.013</td>\n",
       "</tr>\n",
       "</table>\n",
       "<table class=\"simpletable\">\n",
       "<tr>\n",
       "  <th>Omnibus:</th>       <td>51.032</td> <th>  Durbin-Watson:     </th> <td>   1.993</td>\n",
       "</tr>\n",
       "<tr>\n",
       "  <th>Prob(Omnibus):</th> <td> 0.000</td> <th>  Jarque-Bera (JB):  </th> <td> 131.406</td>\n",
       "</tr>\n",
       "<tr>\n",
       "  <th>Skew:</th>          <td>-1.318</td> <th>  Prob(JB):          </th> <td>2.92e-29</td>\n",
       "</tr>\n",
       "<tr>\n",
       "  <th>Kurtosis:</th>      <td> 6.572</td> <th>  Cond. No.          </th> <td>    477.</td>\n",
       "</tr>\n",
       "</table><br/><br/>Notes:<br/>[1] Standard Errors assume that the covariance matrix of the errors is correctly specified."
      ],
      "text/plain": [
       "<class 'statsmodels.iolib.summary.Summary'>\n",
       "\"\"\"\n",
       "                            OLS Regression Results                            \n",
       "==============================================================================\n",
       "Dep. Variable:                  sales   R-squared:                       0.893\n",
       "Model:                            OLS   Adj. R-squared:                  0.891\n",
       "Method:                 Least Squares   F-statistic:                     433.6\n",
       "Date:                Fri, 05 Aug 2022   Prob (F-statistic):           1.98e-75\n",
       "Time:                        17:37:55   Log-Likelihood:                -311.53\n",
       "No. Observations:                 160   AIC:                             631.1\n",
       "Df Residuals:                     156   BIC:                             643.4\n",
       "Df Model:                           3                                         \n",
       "Covariance Type:            nonrobust                                         \n",
       "==============================================================================\n",
       "                 coef    std err          t      P>|t|      [0.025      0.975]\n",
       "------------------------------------------------------------------------------\n",
       "Intercept      2.8484      0.369      7.720      0.000       2.120       3.577\n",
       "TV             0.0463      0.002     28.692      0.000       0.043       0.049\n",
       "radio          0.1888      0.010     19.798      0.000       0.170       0.208\n",
       "newspaper     -0.0010      0.007     -0.144      0.885      -0.015       0.013\n",
       "==============================================================================\n",
       "Omnibus:                       51.032   Durbin-Watson:                   1.993\n",
       "Prob(Omnibus):                  0.000   Jarque-Bera (JB):              131.406\n",
       "Skew:                          -1.318   Prob(JB):                     2.92e-29\n",
       "Kurtosis:                       6.572   Cond. No.                         477.\n",
       "==============================================================================\n",
       "\n",
       "Notes:\n",
       "[1] Standard Errors assume that the covariance matrix of the errors is correctly specified.\n",
       "\"\"\""
      ]
     },
     "execution_count": 67,
     "metadata": {},
     "output_type": "execute_result"
    }
   ],
   "source": [
    "model.summary()"
   ]
  },
  {
   "cell_type": "markdown",
   "id": "d59cb6d2",
   "metadata": {},
   "source": [
    "**interpretation of output**\n",
    "* in first table the p value **(Prob (F-statistic)=1.98e-75)**\n",
    "* the meaning of this is\n",
    "                         \n",
    "          *  P < 0.05 then it is statistically Valid LR model\n",
    "          *  P > 0.05 then it is statistically not Valid LR model\n",
    "   \n",
    " * R^2=0.893 and adj.R^2=0.891 are two important performance metrices\n",
    " * they define the independent variables(TV + radio + newspaper) ability to explain the  89% variation in dependent variable (Sales) \n",
    "   \n",
    "  \n",
    " * second table gives the coefficient value\n",
    " * there also a p value column where same above concept is applied\n",
    " * therefor coefficient of intercept, TV and radio are statistically significant\n",
    " * where as newspaper 0.885 > 0.05 is statistically not significant this\n",
    " * we can say that sales value is not impacted by newspaper \n",
    " * we can delet the newspaper feature \n",
    " \n",
    " \n",
    " **Hypothesis testing**\n",
    " * Null Hypothesis (H0)= The relationship is not significant\n",
    " * Alternate Hypothesis (H1)= The relationship is Significant\n",
    " \n",
    " * P value < Threshold(0.05) then we reject the null hypothesis and accept the Alternate Hypothesis\n",
    " \n",
    " * in this model p value < 0.05 therefor model is Significant  "
   ]
  },
  {
   "cell_type": "code",
   "execution_count": 68,
   "id": "59149987",
   "metadata": {},
   "outputs": [
    {
     "data": {
      "text/plain": [
       "86     11.556939\n",
       "120    14.403863\n",
       "22      6.411746\n",
       "11     17.315813\n",
       "195     5.301722\n",
       "2      12.241219\n",
       "121     7.765259\n",
       "94     10.453105\n",
       "66      8.949104\n",
       "63     13.183310\n",
       "108     3.504765\n",
       "96     12.651786\n",
       "138     9.708621\n",
       "65      7.797924\n",
       "188    18.710269\n",
       "155     5.222612\n",
       "24      8.093322\n",
       "99     16.934884\n",
       "153    18.236863\n",
       "46      8.834675\n",
       "178    16.069547\n",
       "139    19.695583\n",
       "143     8.732854\n",
       "74     17.359780\n",
       "186     9.676792\n",
       "169    18.005811\n",
       "101    23.330737\n",
       "197    12.792593\n",
       "109    19.746161\n",
       "177    12.165683\n",
       "57     12.762538\n",
       "106     6.052892\n",
       "160    14.221334\n",
       "84     20.817594\n",
       "124    19.497675\n",
       "85     15.201245\n",
       "126    10.503162\n",
       "183    24.210169\n",
       "80     11.404210\n",
       "116    11.967280\n",
       "dtype: float64"
      ]
     },
     "execution_count": 68,
     "metadata": {},
     "output_type": "execute_result"
    }
   ],
   "source": [
    "model.predict(test_df.drop('sales',axis=1))"
   ]
  },
  {
   "cell_type": "markdown",
   "id": "0f78766b",
   "metadata": {},
   "source": [
    "# End"
   ]
  },
  {
   "cell_type": "code",
   "execution_count": null,
   "id": "18ea60b1",
   "metadata": {},
   "outputs": [],
   "source": []
  }
 ],
 "metadata": {
  "kernelspec": {
   "display_name": "Python 3",
   "language": "python",
   "name": "python3"
  },
  "language_info": {
   "codemirror_mode": {
    "name": "ipython",
    "version": 3
   },
   "file_extension": ".py",
   "mimetype": "text/x-python",
   "name": "python",
   "nbconvert_exporter": "python",
   "pygments_lexer": "ipython3",
   "version": "3.8.8"
  }
 },
 "nbformat": 4,
 "nbformat_minor": 5
}
